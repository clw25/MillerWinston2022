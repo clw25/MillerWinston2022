{
 "cells": [
  {
   "cell_type": "code",
   "execution_count": null,
   "metadata": {
    "collapsed": false
   },
   "outputs": [],
   "source": [
    "##import \n",
    "import FlowCytometryTools\n",
    "from FlowCytometryTools import FCMeasurement\n",
    "from FlowCytometryTools import ThresholdGate, PolyGate\n",
    "from pylab import *\n",
    "from itertools import chain\n",
    "import glob\n",
    "import matplotlib.pylab as pylab\n",
    "from mpl_toolkits.axes_grid1.inset_locator import inset_axes\n",
    "params = {'legend.fontsize': 'x-large',\n",
    "#           'figure.figsize': (15, 5),\n",
    "         'axes.labelsize': 'x-large',\n",
    "         'axes.titlesize':'x-large',\n",
    "         'xtick.labelsize':'x-large',\n",
    "         'ytick.labelsize':'x-large'}\n",
    "pylab.rcParams.update(params)\n",
    "import pandas as pd \n",
    "from FlowCytometryTools import PolyGate\n",
    "%matplotlib inline\n",
    "import seaborn as sns\n",
    "import math "
   ]
  },
  {
   "cell_type": "code",
   "execution_count": null,
   "metadata": {
    "collapsed": false
   },
   "outputs": [],
   "source": [
    "#import flowcytometry tools\n",
    "from FlowCytometryTools import FCMeasurement"
   ]
  },
  {
   "cell_type": "code",
   "execution_count": null,
   "metadata": {
    "collapsed": false
   },
   "outputs": [],
   "source": [
    "#import os to change to directory with FC data\n",
    "import os\n",
    "datadir = '<name of directory'\n",
    "os.chdir (datadir)"
   ]
  },
  {
   "cell_type": "code",
   "execution_count": null,
   "metadata": {
    "collapsed": false
   },
   "outputs": [],
   "source": [
    "#get all FC files in directory\n",
    "files=glob.glob(\"*.fcs\")\n",
    "datacounts = pd.DataFrame(columns = ['Name', 'Counts', 'Ref']) "
   ]
  },
  {
   "cell_type": "code",
   "execution_count": null,
   "metadata": {
    "collapsed": false
   },
   "outputs": [],
   "source": [
    "# set a sample to find the limits for gating\n",
    "for i in range(0,1):\n",
    "    sample = FCMeasurement(ID='Test Sample', datafile=files[i])\n",
    "print(sample.channel_names)"
   ]
  },
  {
   "cell_type": "code",
   "execution_count": null,
   "metadata": {
    "collapsed": false
   },
   "outputs": [],
   "source": [
    "# look at FSC-A and SSC-A for gating cells\n",
    "sample.plot(['FSC-A', 'SSC-A'], bins=100, alpha=0.9, cmap=cm.hot);\n",
    "plot.ylim(-2, 2)([0,20000])\n"
   ]
  },
  {
   "cell_type": "code",
   "execution_count": null,
   "metadata": {
    "collapsed": false
   },
   "outputs": [],
   "source": [
    "# select the gate, interactive interface, hit close when done\n",
    "sample.view_interactively(backend='wx')"
   ]
  },
  {
   "cell_type": "code",
   "execution_count": null,
   "metadata": {
    "collapsed": false
   },
   "outputs": [],
   "source": [
    "# copy the gate coordinates and create a gate call 'cells', change region to 'in'\n",
    "cells = PolyGate([(5.060e+03, 1.503e+04), (1.951e+04, 1.691e+04), (2.866e+04, 1.503e+04), (3.107e+04, 3.769e+03), (2.192e+04, 9.538e+02), (1.084e+04, 9.538e+02), (4.097e+03, 9.538e+02), (5.542e+03, 1.221e+04)], ('FSC-A', 'SSC-A'), region='in', name='gate1')\n"
   ]
  },
  {
   "cell_type": "code",
   "execution_count": null,
   "metadata": {
    "collapsed": false
   },
   "outputs": [],
   "source": [
    "# gate the sample and visualize it\n",
    "gated_sample = sample.gate(cells)\n",
    "gated_sample.plot(['FSC-A', 'SSC-A']);"
   ]
  },
  {
   "cell_type": "code",
   "execution_count": null,
   "metadata": {
    "collapsed": false
   },
   "outputs": [],
   "source": [
    "gated_sample.plot(['FITC-A'], bins=300, alpha=0.5);\n",
    "plt.xticks(rotation=45)\n",
    "plt.title(sample.datafile)"
   ]
  },
  {
   "cell_type": "code",
   "execution_count": null,
   "metadata": {
    "collapsed": false
   },
   "outputs": [],
   "source": [
    "#generate histogram for each file \n",
    "for i in range(0,len(files)):\n",
    "    plt.figure(i, figsize=(5,5))\n",
    "    sample = FCMeasurement(ID='Sample', datafile=files[i])\n",
    "    gated_sample = sample.gate(cells)\n",
    "    plt.hist(gated_sample.data[['FITC-A']][:].values, bins = 300, alpha = 0.7)\n",
    "    plt.title(sample.datafile)\n",
    "    plt.tick_params('x', labelrotation=45)\n",
    "    plt.tight_layout()\n",
    "    plt.savefig(sample.datafile + '.pdf')"
   ]
  },
  {
   "cell_type": "code",
   "execution_count": null,
   "metadata": {
    "collapsed": false
   },
   "outputs": [],
   "source": [
    "#generate smoothed histogram \n",
    "for i in range(0,len(files)):\n",
    "    plt.figure(i, figsize=(5,5))\n",
    "    sample = FCMeasurement(ID='Sample', datafile=files[i])\n",
    "    gated_sample = sample.gate(cells)\n",
    "    sns.distplot(gated_sample.data[['FITC-A']][:].values, hist = False, kde = True,\n",
    "                 kde_kws = {'shade': True, 'linewidth': 3}, label = 'arrest')\n",
    "    plt.title(sample.datafile)\n",
    "    plt.tick_params('x', labelrotation=45)\n",
    "    plt.tight_layout()\n",
    "\n",
    "    plt.savefig(sample.datafile + '_smoothed.pdf')"
   ]
  },
  {
   "cell_type": "code",
   "execution_count": null,
   "metadata": {
    "collapsed": false
   },
   "outputs": [],
   "source": [
    "#make list of only WT values\n",
    "filesWT = [i for i in files if not ('57' in i)]\n",
    "#calculate average alpha factor median score (depends on format of FSC file 3.0 vs 2.0)\n",
    "WTbackground = 51449\n",
    "#set up loop conditions. counter will be used as x-axis in scatter plot, dfmedian will be y-value\n",
    "counter = 0 \n",
    "WTmedian = []\n",
    "counterlist = []\n",
    "for i in range(0,len(filesWT)):\n",
    "    sample = FCMeasurement(ID='Sample', datafile=filesWT[i])\n",
    "    gated_sample = sample.gate(cells)\n",
    "    #x = pd.DataFrame({'FITC' : gated_sample.data['FITC-A']})\n",
    "    x = gated_sample.data['FITC-A'].median()/WTbackground\n",
    "    if '_a.' in filesWT[i]:\n",
    "        counter = counter + 1   \n",
    "    WTmedian.append(x)\n",
    "    counterlist.append(counter)\n",
    "    \n",
    "#make list of only YW values\n",
    "filesYW = [i for i in files if ('57' in i)]\n",
    "#calculate average alpha factor median score\n",
    "YWbackground = 53519\n",
    "#set up loop conditions. counter will be used as x-axis in scatter plot, dfmedian will be y-value\n",
    "counter = 0 \n",
    "YWmedian = []\n",
    "counterlist = []\n",
    "for i in range(0,len(filesYW)):\n",
    "    sample = FCMeasurement(ID='Sample', datafile=filesYW[i])\n",
    "    gated_sample = sample.gate(cells)\n",
    "    #x = pd.DataFrame({'FITC' : gated_sample.data['FITC-A']})\n",
    "    x = gated_sample.data['FITC-A'].median()/YWbackground\n",
    "    if '_a.' in filesWT[i]:\n",
    "        counter = counter + 1   \n",
    "    YWmedian.append(x)\n",
    "    counterlist.append(counter)\n",
    "    \n",
    "#make list of only 50 values\n",
    "filess50 = [i for i in files50 if ('123' in i)]\n",
    "filess50 = sort(filess50)\n",
    "#calculate average alpha factor median score\n",
    "WT50background = 51605\n",
    "#set up loop conditions. counter will be used as x-axis in scatter plot, dfmedian will be y-value\n",
    "counter = 0 \n",
    "s50median = []\n",
    "counterlistC = (3,4,5,6,7,8,9,10,11,12,13,14,15,2,1,3,4,5,6,7,8,9,10,11,12,13,14,15,2,1,3,4,5,6,7,8,9,10,11,12,13,14,15,2,1)\n",
    "for i in range(0,len(filess50)):\n",
    "    sample = FCMeasurement(ID='Sample', datafile=filess50[i])\n",
    "    gated_sample = sample.gate(cells)\n",
    "    #x = pd.DataFrame({'FITC' : gated_sample.data['FITC-A']})\n",
    "    x = gated_sample.data['FITC-A'].median()/WT50background \n",
    "    s50median.append(x)"
   ]
  },
  {
   "cell_type": "code",
   "execution_count": null,
   "metadata": {
    "collapsed": false
   },
   "outputs": [],
   "source": [
    "#calc median, min, max, stdev for replicates\n",
    "import statistics\n",
    "\n",
    "modcounterlistWT = (0,1,2,4,5,6,7,8,9,10,11,12,14,16,18) \n",
    "modcounterlist50 = (2,4,5,6,7,8,9,10,11,12,14,16,18,1,0) \n",
    "\n",
    "WTmedianAVG = []\n",
    "WTmedianmin = []\n",
    "WTmedianmax = []\n",
    "WTmedianstdev = []\n",
    "counter = 0\n",
    "for i in range(0,len(WTmedian),2):\n",
    "    x = mean(WTmedian[counter:(counter +2)])\n",
    "    minx = min(WTmedian[counter:(counter +2)])\n",
    "    maxx = max(WTmedian[counter:(counter +2)])\n",
    "    stdevx = statistics.stdev(WTmedian[counter:(counter +2)])\n",
    "    counter = counter + 2\n",
    "    WTmedianAVG.append(x)\n",
    "    WTmedianmin.append(minx)\n",
    "    WTmedianmax.append(maxx)\n",
    "    WTmedianstdev.append(stdevx)\n",
    "    \n",
    "YWmedianAVG = []\n",
    "YWmedianmin = []\n",
    "YWmedianmax = []\n",
    "YWmedianstdev = []\n",
    "counter = 0\n",
    "for i in range(0,len(YWmedian),2):\n",
    "    x = mean(YWmedian[counter:(counter +2)])\n",
    "    minx = min(YWmedian[counter:(counter +2)])\n",
    "    maxx = max(YWmedian[counter:(counter +2)])\n",
    "    stdevx = statistics.stdev(YWmedian[counter:(counter +2)])\n",
    "    counter = counter + 2\n",
    "    YWmedianAVG.append(x)\n",
    "    YWmedianmin.append(minx)\n",
    "    YWmedianmax.append(maxx)\n",
    "    YWmedianstdev.append(stdevx)\n",
    "    \n",
    "s50medianAVG = []\n",
    "s50medianmin = []\n",
    "s50medianmax = []\n",
    "s50medianstdev = []\n",
    "counter = 0\n",
    "for i in range(0,15):\n",
    "    samples = (((s50median[counter]),(s50median[counter+15]),(s50median[counter+30])))\n",
    "    x = math.fsum(samples)/3\n",
    "    minx = min(samples)\n",
    "    maxx = max(samples)\n",
    "    stdevx = statistics.stdev(samples)\n",
    "    counter = counter + 1\n",
    "    s50medianAVG.append(x) \n",
    "    s50medianmin.append(minx)\n",
    "    s50medianmax.append(maxx)\n",
    "    s50medianstdev.append(stdevx)\n",
    "    \n",
    "order = [14,13,0,1,2,3,4,5,6,7,8,9,10,11,12]\n",
    "s50medianAVG_sorted = [s50medianAVG[i] for i in order]\n",
    "s50medianmin_sorted = [s50medianmin[i] for i in order]\n",
    "s50medianmax_sorted = [s50medianmax[i] for i in order]\n",
    "s50medianstdev_sorted = [s50medianstdev[i] for i in order]\n"
   ]
  },
  {
   "cell_type": "code",
   "execution_count": null,
   "metadata": {
    "collapsed": false
   },
   "outputs": [],
   "source": [
    "#plot line of median signal with std error \n",
    "from matplotlib.patches import Rectangle\n",
    "import matplotlib.pyplot as plt\n",
    "import matplotlib.colors as mcolors\n",
    "\n",
    "fig, ax = plt.subplots(1,1)\n",
    "plt.plot(modcounterlistWT[1:15], WTmedianAVG[1:15], c='gray', label='WT', marker='o')\n",
    "plt.errorbar(modcounterlistWT[1:15], WTmedianAVG[1:15], yerr = WTmedianstdev[1:15],fmt='o',ecolor = 'gray', color = 'gray')\n",
    "plt.plot(modcounterlistWT[1:15], YWmedianAVG[1:15], c='skyblue', label='YW', marker='o')\n",
    "plt.errorbar(modcounterlistWT[1:15], YWmedianAVG[1:15], yerr = YWmedianstdev[1:15],fmt='o',ecolor = 'skyblue', color = 'skyblue')\n",
    "plt.plot(modcounterlistWT[1:15], s50medianAVG_sorted[1:15], c='blue', label='50', marker='o')\n",
    "plt.errorbar(modcounterlistWT[1:16], s50medianAVG_sorted[1:16], yerr = s50medianstdev_sorted[1:16],fmt='o',ecolor = 'blue', color = 'blue')\n",
    "x_ticks_labels = ['','alpha','10','20','25','30','35','40','45','50','55','60','70','80','90']\n",
    "ax.set_xticklabels(x_ticks_labels, rotation='vertical')\n",
    "ax.xaxis.set_ticks(modcounterlistWT)\n",
    "plt.ylabel(\"Median SYTOX Green Value\")\n",
    "plt.xlabel(\"time\")\n",
    "plt.legend(loc='lower right')\n",
    "plt.savefig('/Volumes/ExFAT/DATA/Flow_Cytometry/20220213_2_WT.YW.50selecttimes/WT.YW.s50_allreplicates_blues.line_stdev.svg')\n",
    "plt.show()\n"
   ]
  },
  {
   "cell_type": "code",
   "execution_count": null,
   "metadata": {
    "collapsed": true
   },
   "outputs": [],
   "source": [
    "#isolate alpha only samples (note depends on order of files)\n",
    "filesalpha = [i for i in filesexample if ('alpha' in i)]\n",
    "sample50 = FCMeasurement(ID='Sample', datafile=filesalpha[2])\n",
    "gated_sample50 = sample50.gate(cells)\n",
    "sampleWT = FCMeasurement(ID='Sample', datafile=filesalpha[0])\n",
    "gated_sampleWT = sampleWT.gate(cells)\n",
    "sampleYW = FCMeasurement(ID='Sample', datafile=filesalpha[1])\n",
    "gated_sampleYW = sampleYW.gate(cells)"
   ]
  },
  {
   "cell_type": "code",
   "execution_count": null,
   "metadata": {
    "collapsed": true
   },
   "outputs": [],
   "source": [
    "#isolate 30 minute samples (note depends on order of files)\n",
    "filesalpha = [i for i in filesexample if ('30' in i)]\n",
    "sample50 = FCMeasurement(ID='Sample', datafile=filesalpha[1])\n",
    "gated_sample50 = sample50.gate(cells)\n",
    "sampleWT = FCMeasurement(ID='Sample', datafile=filesalpha[0])\n",
    "gated_sampleWT = sampleWT.gate(cells)\n",
    "sampleYW = FCMeasurement(ID='Sample', datafile=filesalpha[2])\n",
    "gated_sampleYW = sampleYW.gate(cells)"
   ]
  },
  {
   "cell_type": "code",
   "execution_count": null,
   "metadata": {
    "collapsed": true
   },
   "outputs": [],
   "source": [
    "#isolate 45 minute samples (note depends on order of files)\n",
    "filesalpha = [i for i in filesexample if ('45' in i)]\n",
    "sample50 = FCMeasurement(ID='Sample', datafile=filesalpha[0])\n",
    "gated_sample50 = sample50.gate(cells)\n",
    "sampleWT = FCMeasurement(ID='Sample', datafile=filesalpha[1])\n",
    "gated_sampleWT = sampleWT.gate(cells)\n",
    "sampleYW = FCMeasurement(ID='Sample', datafile=filesalpha[2])\n",
    "gated_sampleYW = sampleYW.gate(cells)"
   ]
  },
  {
   "cell_type": "code",
   "execution_count": null,
   "metadata": {
    "collapsed": true
   },
   "outputs": [],
   "source": [
    "#isolate 60 minute samples (note depends on order of files)\n",
    "filesalpha = [i for i in filesexample if ('60' in i)]\n",
    "sample50 = FCMeasurement(ID='Sample', datafile=filesalpha[0])\n",
    "gated_sample50 = sample50.gate(cells)\n",
    "sampleWT = FCMeasurement(ID='Sample', datafile=filesalpha[1])\n",
    "gated_sampleWT = sampleWT.gate(cells)\n",
    "sampleYW = FCMeasurement(ID='Sample', datafile=filesalpha[2])\n",
    "gated_sampleYW = sampleYW.gate(cells)"
   ]
  },
  {
   "cell_type": "code",
   "execution_count": null,
   "metadata": {
    "collapsed": false
   },
   "outputs": [],
   "source": [
    "#plot - make sure to update title based on plot\n",
    "from matplotlib.patches import Rectangle\n",
    "import matplotlib.pyplot as plt\n",
    "import matplotlib.colors as mcolors\n",
    "\n",
    "plt.hist(gated_sampleWT.data[['FITC-A']][:].values, bins = 300, alpha = 0.7, label = \"WT\", color = 'gray')\n",
    "plt.hist(gated_sampleYW.data[['FITC-A']][:].values, bins = 300, alpha = 0.7, label = \"YW\", color = 'skyblue')\n",
    "plt.hist(gated_sample50.data[['FITC-A']][1:50000].values, bins = 300, alpha = 0.7, label = \"50\", color = 'mediumblue')\n",
    "\n",
    "plt.title(\"alpha\")\n",
    "plt.tick_params('x', labelrotation=45)\n",
    "plt.legend(loc='upper right')\n",
    "plt.xlim([10000, 150000])\n",
    "plt.savefig('/Volumes/ExFAT/DATA/Flow_Cytometry/20220213_2_WT.YW.50selecttimes/WT.s50_blues.alpha_histogram.svg')\n",
    "plt.tight_layout()"
   ]
  },
  {
   "cell_type": "code",
   "execution_count": null,
   "metadata": {
    "collapsed": false
   },
   "outputs": [],
   "source": []
  },
  {
   "cell_type": "code",
   "execution_count": null,
   "metadata": {
    "collapsed": true
   },
   "outputs": [],
   "source": []
  }
 ],
 "metadata": {
  "kernelspec": {
   "display_name": "Python 3",
   "language": "python",
   "name": "python3"
  },
  "language_info": {
   "codemirror_mode": {
    "name": "ipython",
    "version": 3
   },
   "file_extension": ".py",
   "mimetype": "text/x-python",
   "name": "python",
   "nbconvert_exporter": "python",
   "pygments_lexer": "ipython3",
   "version": "3.9.0"
  }
 },
 "nbformat": 4,
 "nbformat_minor": 0
}
